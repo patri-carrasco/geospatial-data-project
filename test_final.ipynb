{
 "cells": [
  {
   "cell_type": "code",
   "execution_count": 1,
   "metadata": {},
   "outputs": [],
   "source": [
    "import pandas as pd\n",
    "import sys\n",
    "sys.path.append(\"../\")\n",
    "from functools import reduce\n",
    "from src.haversine import haversine"
   ]
  },
  {
   "cell_type": "markdown",
   "metadata": {},
   "source": [
    "Vamos a utilizar los datas que hemos obtenido anteriomente."
   ]
  },
  {
   "cell_type": "code",
   "execution_count": 2,
   "metadata": {},
   "outputs": [],
   "source": [
    "companies = pd.read_csv('./data/companies.csv')"
   ]
  },
  {
   "cell_type": "code",
   "execution_count": 3,
   "metadata": {},
   "outputs": [
    {
     "data": {
      "text/html": [
       "<div>\n",
       "<style scoped>\n",
       "    .dataframe tbody tr th:only-of-type {\n",
       "        vertical-align: middle;\n",
       "    }\n",
       "\n",
       "    .dataframe tbody tr th {\n",
       "        vertical-align: top;\n",
       "    }\n",
       "\n",
       "    .dataframe thead th {\n",
       "        text-align: right;\n",
       "    }\n",
       "</style>\n",
       "<table border=\"1\" class=\"dataframe\">\n",
       "  <thead>\n",
       "    <tr style=\"text-align: right;\">\n",
       "      <th></th>\n",
       "      <th>Unnamed: 0</th>\n",
       "      <th>name</th>\n",
       "      <th>longitude</th>\n",
       "      <th>latitude</th>\n",
       "    </tr>\n",
       "  </thead>\n",
       "  <tbody>\n",
       "    <tr>\n",
       "      <th>0</th>\n",
       "      <td>0</td>\n",
       "      <td>Fon</td>\n",
       "      <td>-3.632687</td>\n",
       "      <td>40.530724</td>\n",
       "    </tr>\n",
       "    <tr>\n",
       "      <th>1</th>\n",
       "      <td>1</td>\n",
       "      <td>Spotify</td>\n",
       "      <td>6.121511</td>\n",
       "      <td>49.607295</td>\n",
       "    </tr>\n",
       "    <tr>\n",
       "      <th>2</th>\n",
       "      <td>2</td>\n",
       "      <td>Videoplaza</td>\n",
       "      <td>-0.102089</td>\n",
       "      <td>51.521248</td>\n",
       "    </tr>\n",
       "    <tr>\n",
       "      <th>3</th>\n",
       "      <td>3</td>\n",
       "      <td>Veeam Software</td>\n",
       "      <td>-83.088566</td>\n",
       "      <td>40.088052</td>\n",
       "    </tr>\n",
       "    <tr>\n",
       "      <th>4</th>\n",
       "      <td>4</td>\n",
       "      <td>Busuu</td>\n",
       "      <td>-3.683032</td>\n",
       "      <td>40.422549</td>\n",
       "    </tr>\n",
       "    <tr>\n",
       "      <th>5</th>\n",
       "      <td>6</td>\n",
       "      <td>Comunitae</td>\n",
       "      <td>-3.703340</td>\n",
       "      <td>40.490511</td>\n",
       "    </tr>\n",
       "    <tr>\n",
       "      <th>6</th>\n",
       "      <td>7</td>\n",
       "      <td>IMASTE</td>\n",
       "      <td>-3.675517</td>\n",
       "      <td>40.427245</td>\n",
       "    </tr>\n",
       "    <tr>\n",
       "      <th>7</th>\n",
       "      <td>8</td>\n",
       "      <td>ticketea</td>\n",
       "      <td>-3.706176</td>\n",
       "      <td>40.445516</td>\n",
       "    </tr>\n",
       "  </tbody>\n",
       "</table>\n",
       "</div>"
      ],
      "text/plain": [
       "   Unnamed: 0            name  longitude   latitude\n",
       "0           0             Fon  -3.632687  40.530724\n",
       "1           1         Spotify   6.121511  49.607295\n",
       "2           2      Videoplaza  -0.102089  51.521248\n",
       "3           3  Veeam Software -83.088566  40.088052\n",
       "4           4           Busuu  -3.683032  40.422549\n",
       "5           6       Comunitae  -3.703340  40.490511\n",
       "6           7          IMASTE  -3.675517  40.427245\n",
       "7           8        ticketea  -3.706176  40.445516"
      ]
     },
     "execution_count": 3,
     "metadata": {},
     "output_type": "execute_result"
    }
   ],
   "source": [
    "data_companies = pd.DataFrame(companies)\n",
    "data_companies"
   ]
  },
  {
   "cell_type": "code",
   "execution_count": 4,
   "metadata": {},
   "outputs": [],
   "source": [
    "school = pd.read_csv('./data/school.csv')"
   ]
  },
  {
   "cell_type": "code",
   "execution_count": 5,
   "metadata": {},
   "outputs": [
    {
     "data": {
      "text/html": [
       "<div>\n",
       "<style scoped>\n",
       "    .dataframe tbody tr th:only-of-type {\n",
       "        vertical-align: middle;\n",
       "    }\n",
       "\n",
       "    .dataframe tbody tr th {\n",
       "        vertical-align: top;\n",
       "    }\n",
       "\n",
       "    .dataframe thead th {\n",
       "        text-align: right;\n",
       "    }\n",
       "</style>\n",
       "<table border=\"1\" class=\"dataframe\">\n",
       "  <thead>\n",
       "    <tr style=\"text-align: right;\">\n",
       "      <th></th>\n",
       "      <th>Unnamed: 0</th>\n",
       "      <th>name</th>\n",
       "      <th>latitud</th>\n",
       "      <th>longitud</th>\n",
       "      <th>geometry</th>\n",
       "    </tr>\n",
       "  </thead>\n",
       "  <tbody>\n",
       "    <tr>\n",
       "      <th>0</th>\n",
       "      <td>0</td>\n",
       "      <td>Escuela infantil municipal Agua Dulce</td>\n",
       "      <td>40.454061</td>\n",
       "      <td>-3.709371</td>\n",
       "      <td>POINT (-3.709371361756636 40.45406088024461)</td>\n",
       "    </tr>\n",
       "    <tr>\n",
       "      <th>1</th>\n",
       "      <td>1</td>\n",
       "      <td>Escuela infantil municipal Altair</td>\n",
       "      <td>40.378132</td>\n",
       "      <td>-3.768701</td>\n",
       "      <td>POINT (-3.768700549230208 40.37813189249392)</td>\n",
       "    </tr>\n",
       "    <tr>\n",
       "      <th>2</th>\n",
       "      <td>2</td>\n",
       "      <td>Escuela infantil municipal Amanecer</td>\n",
       "      <td>40.401990</td>\n",
       "      <td>-3.601044</td>\n",
       "      <td>POINT (-3.601044345956354 40.40198995600377)</td>\n",
       "    </tr>\n",
       "    <tr>\n",
       "      <th>3</th>\n",
       "      <td>3</td>\n",
       "      <td>Escuela infantil municipal Ana de Austria</td>\n",
       "      <td>40.495522</td>\n",
       "      <td>-3.655737</td>\n",
       "      <td>POINT (-3.655736850911649 40.49552153813781)</td>\n",
       "    </tr>\n",
       "    <tr>\n",
       "      <th>4</th>\n",
       "      <td>4</td>\n",
       "      <td>Escuela infantil municipal Campanilla</td>\n",
       "      <td>40.452700</td>\n",
       "      <td>-3.701998</td>\n",
       "      <td>POINT (-3.701998076478461 40.452700492043)</td>\n",
       "    </tr>\n",
       "  </tbody>\n",
       "</table>\n",
       "</div>"
      ],
      "text/plain": [
       "   Unnamed: 0                                       name    latitud  longitud  \\\n",
       "0           0      Escuela infantil municipal Agua Dulce  40.454061 -3.709371   \n",
       "1           1          Escuela infantil municipal Altair  40.378132 -3.768701   \n",
       "2           2        Escuela infantil municipal Amanecer  40.401990 -3.601044   \n",
       "3           3  Escuela infantil municipal Ana de Austria  40.495522 -3.655737   \n",
       "4           4      Escuela infantil municipal Campanilla  40.452700 -3.701998   \n",
       "\n",
       "                                       geometry  \n",
       "0  POINT (-3.709371361756636 40.45406088024461)  \n",
       "1  POINT (-3.768700549230208 40.37813189249392)  \n",
       "2  POINT (-3.601044345956354 40.40198995600377)  \n",
       "3  POINT (-3.655736850911649 40.49552153813781)  \n",
       "4    POINT (-3.701998076478461 40.452700492043)  "
      ]
     },
     "execution_count": 5,
     "metadata": {},
     "output_type": "execute_result"
    }
   ],
   "source": [
    "data_school = pd.DataFrame(school)\n",
    "data_school.head()"
   ]
  },
  {
   "cell_type": "code",
   "execution_count": 6,
   "metadata": {},
   "outputs": [],
   "source": [
    "metro = pd.read_csv('./data/metro.csv')"
   ]
  },
  {
   "cell_type": "code",
   "execution_count": 7,
   "metadata": {},
   "outputs": [],
   "source": [
    "data_metro = pd.DataFrame(metro)\n"
   ]
  },
  {
   "cell_type": "code",
   "execution_count": 8,
   "metadata": {},
   "outputs": [],
   "source": [
    "starbucks = pd.read_csv('./data/starbucks.csv')"
   ]
  },
  {
   "cell_type": "code",
   "execution_count": 9,
   "metadata": {},
   "outputs": [
    {
     "data": {
      "text/html": [
       "<div>\n",
       "<style scoped>\n",
       "    .dataframe tbody tr th:only-of-type {\n",
       "        vertical-align: middle;\n",
       "    }\n",
       "\n",
       "    .dataframe tbody tr th {\n",
       "        vertical-align: top;\n",
       "    }\n",
       "\n",
       "    .dataframe thead th {\n",
       "        text-align: right;\n",
       "    }\n",
       "</style>\n",
       "<table border=\"1\" class=\"dataframe\">\n",
       "  <thead>\n",
       "    <tr style=\"text-align: right;\">\n",
       "      <th></th>\n",
       "      <th>Unnamed: 0</th>\n",
       "      <th>name</th>\n",
       "      <th>latitud</th>\n",
       "      <th>longitud</th>\n",
       "      <th>geometry</th>\n",
       "    </tr>\n",
       "  </thead>\n",
       "  <tbody>\n",
       "    <tr>\n",
       "      <th>0</th>\n",
       "      <td>0</td>\n",
       "      <td>Starbucks</td>\n",
       "      <td>40.426067</td>\n",
       "      <td>-3.675617</td>\n",
       "      <td>POINT (-3.675616746905888 40.42606680113607)</td>\n",
       "    </tr>\n",
       "    <tr>\n",
       "      <th>1</th>\n",
       "      <td>1</td>\n",
       "      <td>Starbucks</td>\n",
       "      <td>40.432968</td>\n",
       "      <td>-3.683220</td>\n",
       "      <td>POINT (-3.683220148086547 40.43296760669224)</td>\n",
       "    </tr>\n",
       "    <tr>\n",
       "      <th>2</th>\n",
       "      <td>2</td>\n",
       "      <td>Starbucks</td>\n",
       "      <td>40.433564</td>\n",
       "      <td>-3.686829</td>\n",
       "      <td>POINT (-3.686829359536097 40.4335639178076)</td>\n",
       "    </tr>\n",
       "    <tr>\n",
       "      <th>3</th>\n",
       "      <td>3</td>\n",
       "      <td>Starbucks</td>\n",
       "      <td>40.424975</td>\n",
       "      <td>-3.684107</td>\n",
       "      <td>POINT (-3.684107212216363 40.424974636524)</td>\n",
       "    </tr>\n",
       "    <tr>\n",
       "      <th>4</th>\n",
       "      <td>4</td>\n",
       "      <td>Starbucks</td>\n",
       "      <td>40.425760</td>\n",
       "      <td>-3.691782</td>\n",
       "      <td>POINT (-3.691781759262085 40.42576035726452)</td>\n",
       "    </tr>\n",
       "  </tbody>\n",
       "</table>\n",
       "</div>"
      ],
      "text/plain": [
       "   Unnamed: 0       name    latitud  longitud  \\\n",
       "0           0  Starbucks  40.426067 -3.675617   \n",
       "1           1  Starbucks  40.432968 -3.683220   \n",
       "2           2  Starbucks  40.433564 -3.686829   \n",
       "3           3  Starbucks  40.424975 -3.684107   \n",
       "4           4  Starbucks  40.425760 -3.691782   \n",
       "\n",
       "                                       geometry  \n",
       "0  POINT (-3.675616746905888 40.42606680113607)  \n",
       "1  POINT (-3.683220148086547 40.43296760669224)  \n",
       "2   POINT (-3.686829359536097 40.4335639178076)  \n",
       "3    POINT (-3.684107212216363 40.424974636524)  \n",
       "4  POINT (-3.691781759262085 40.42576035726452)  "
      ]
     },
     "execution_count": 9,
     "metadata": {},
     "output_type": "execute_result"
    }
   ],
   "source": [
    "data_starbucks = pd.DataFrame(starbucks)\n",
    "data_starbucks.head()"
   ]
  },
  {
   "cell_type": "markdown",
   "metadata": {},
   "source": [
    "### Con la función haversine obtenemos las empresas que tiene un colegio a menos de un `1000 mentros`"
   ]
  },
  {
   "cell_type": "code",
   "execution_count": 10,
   "metadata": {},
   "outputs": [
    {
     "name": "stdout",
     "output_type": "stream",
     "text": [
      "['IMASTE', 'ticketea', 'ticketea']\n"
     ]
    }
   ],
   "source": [
    "data = data_companies\n",
    "data_school \n",
    "score_school = []\n",
    "\n",
    "for elem in data.index:\n",
    "    cord=[]\n",
    "    cord.append(data.longitude[elem])\n",
    "    cord.append(data.latitude[elem])\n",
    "    for cole in data_school.index:\n",
    "        cord_c = []\n",
    "        cord_c.append(data_school.longitud[cole])\n",
    "        cord_c.append(data_school.latitud[cole])\n",
    "        distance = haversine(cord,cord_c)\n",
    "        \n",
    "        if distance <= 1000:\n",
    "            score_school.append(data.name[elem])\n",
    "        \n",
    "print(score_school)"
   ]
  },
  {
   "cell_type": "markdown",
   "metadata": {},
   "source": [
    " ### Ahora buscamos las empresas que tienen Starbucks a menos de `500 metros`."
   ]
  },
  {
   "cell_type": "code",
   "execution_count": 11,
   "metadata": {},
   "outputs": [
    {
     "name": "stdout",
     "output_type": "stream",
     "text": [
      "['Busuu', 'Busuu', 'IMASTE']\n"
     ]
    }
   ],
   "source": [
    "data = data_companies\n",
    " \n",
    "score_starbucks = []\n",
    "\n",
    "for elem in data.index:\n",
    "    cord=[]\n",
    "    cord.append(data.longitude[elem])\n",
    "    cord.append(data.latitude[elem])\n",
    "    for s in data_starbucks.index:\n",
    "        cord_c = []\n",
    "        cord_c.append(data_starbucks.longitud[s])\n",
    "        cord_c.append(data_starbucks.latitud[s])\n",
    "        distance = haversine(cord,cord_c)\n",
    "        \n",
    "        if distance <= 500:\n",
    "            score_starbucks.append(data.name[elem])\n",
    "        \n",
    "print(score_starbucks)"
   ]
  },
  {
   "cell_type": "markdown",
   "metadata": {},
   "source": [
    "### En el último paso obtenemos las empresas que tiene  estaciones de metros a menos de '300 metros'."
   ]
  },
  {
   "cell_type": "code",
   "execution_count": 12,
   "metadata": {},
   "outputs": [
    {
     "name": "stdout",
     "output_type": "stream",
     "text": [
      "['Busuu', 'IMASTE']\n"
     ]
    }
   ],
   "source": [
    "data = data_companies\n",
    " \n",
    "score_metro = []\n",
    "\n",
    "for elem in data.index:\n",
    "    cord=[]\n",
    "    cord.append(data.longitude[elem])\n",
    "    cord.append(data.latitude[elem])\n",
    "    for s in data_metro.index:\n",
    "        cord_c = []\n",
    "        cord_c.append(data_metro.longitud[s])\n",
    "        cord_c.append(data_metro.latitud[s])\n",
    "        distance = haversine(cord,cord_c)\n",
    "        \n",
    "        if distance <= 300:\n",
    "            score_metro.append(data.name[elem])\n",
    "        \n",
    "print(score_metro)"
   ]
  },
  {
   "cell_type": "code",
   "execution_count": 13,
   "metadata": {},
   "outputs": [
    {
     "data": {
      "text/plain": [
       "(['IMASTE', 'ticketea', 'ticketea'],\n",
       " ['Busuu', 'Busuu', 'IMASTE'],\n",
       " ['Busuu', 'IMASTE'])"
      ]
     },
     "execution_count": 13,
     "metadata": {},
     "output_type": "execute_result"
    }
   ],
   "source": [
    "score_school, score_starbucks,score_metro"
   ]
  },
  {
   "cell_type": "markdown",
   "metadata": {},
   "source": [
    "## Conclusión: Nuestra mejor ubicación es  (-3.675517  40.427245), de la empresa IMASTE"
   ]
  },
  {
   "cell_type": "code",
   "execution_count": 14,
   "metadata": {},
   "outputs": [
    {
     "name": "stdout",
     "output_type": "stream",
     "text": [
      "   Unnamed: 0    name  longitude   latitude\n",
      "6           7  IMASTE  -3.675517  40.427245\n"
     ]
    }
   ],
   "source": [
    "print(companies[companies.name == 'IMASTE'])"
   ]
  }
 ],
 "metadata": {
  "kernelspec": {
   "display_name": "Python 3",
   "language": "python",
   "name": "python3"
  },
  "language_info": {
   "codemirror_mode": {
    "name": "ipython",
    "version": 3
   },
   "file_extension": ".py",
   "mimetype": "text/x-python",
   "name": "python",
   "nbconvert_exporter": "python",
   "pygments_lexer": "ipython3",
   "version": "3.8.5"
  }
 },
 "nbformat": 4,
 "nbformat_minor": 4
}
